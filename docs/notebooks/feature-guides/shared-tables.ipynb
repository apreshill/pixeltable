{
  "cells": [
    {
      "cell_type": "markdown",
      "metadata": {},
      "source": [
        "[![Kaggle](https://kaggle.com/static/images/open-in-kaggle.svg)](https://kaggle.com/kernels/welcome?src=https://github.com/pixeltable/pixeltable/blob/release/docs/notebooks/feature-guides/shared-tables.ipynb)&nbsp;&nbsp;\n",
        "[![Colab](https://colab.research.google.com/assets/colab-badge.svg)](https://colab.research.google.com/github/pixeltable/pixeltable/blob/release/docs/notebooks/feature-guides/shared-tables.ipynb)\n",
        "\n",
        "# Working with Shared Tables\n",
        "\n",
        "Pixeltable's shared tables feature allows you to distribute data by publishing tables to the cloud and accessing them locally. This enables data sharing and distributed data science workflows.\n",
        "\n",
        "## What are Shared Tables?\n",
        "\n",
        "Shared tables in Pixeltable allow you to:\n",
        "- Create read-only replicas from the cloud and work with them locally\n",
        "- Publish local tables to the cloud for sharing\n",
        "- Keep local read-only replicas synchronized with cloud versions\n",
        "- Enable data distribution and sharing\n",
        "\n",
        "## Key Functions\n",
        "\n",
        "**Sharing your data:**\n",
        "- `pxt.publish(local_table, cloud_uri, access='public'|'private')` - Publish local table (source) to cloud (destination)\n",
        "- `my_table.push()` - Push changes from your local table to the cloud\n",
        "\n",
        "**Accessing shared data:**\n",
        "- `pxt.replicate(cloud_uri, local_path)` - Create read-only replica from cloud table (source) to local (destination)\n",
        "- `shared_table.pull()` - Update your local read-only replica table with latest cloud changes\n",
        "\n",
        "**Note**: \n",
        "- **Global functions**: `pxt.publish()`, `pxt.replicate()` - operate on sources/destinations\n",
        "- **Table methods**: `my_table.push()`, `shared_table.pull()` - called on your tables\n",
        "\n",
        "**General:**\n",
        "- `pxt.get_table(path)` - Gets a handle to an existing table\n",
        "- `pxt.list_tables()` - Lists all available tables\n"
      ]
    },
    {
      "cell_type": "code",
      "execution_count": null,
      "metadata": {},
      "outputs": [],
      "source": [
        "%pip install -qU pixeltable"
      ]
    },
    {
      "cell_type": "markdown",
      "metadata": {},
      "source": [
        "import pixeltable as pxt\n",
        "from pixeltable import exceptions as excs\n"
      ]
    },
    {
      "cell_type": "markdown",
      "metadata": {},
      "source": [
        "## Sharing Your Data\n",
        "\n",
        "If you have a table you want to share with others, you can publish it to the cloud.\n",
        "\n",
        "### API Key Configuration\n",
        "\n",
        "Before you can share data with Pixeltable Cloud, you need to configure your API key. You can do this in two ways:\n",
        "\n",
        "#### Option 1: Environment Variable (Recommended)\n",
        "```bash\n",
        "export PIXELTABLE_API_KEY=\"your_api_key_here\"\n",
        "```\n",
        "\n",
        "#### Option 2: Configuration File\n",
        "Add the following to your Pixeltable `config.toml` file:\n",
        "```toml\n",
        "[pixeltable]\n",
        "api_key = \"your_api_key_here\"\n",
        "```\n",
        "\n",
        "> **Note**: The config file is typically located in your Pixeltable home directory. You can find this location by running `pxt.get_config()` in Python.\n"
      ]
    },
    {
      "cell_type": "markdown",
      "metadata": {},
      "source": [
        "### Creating a Sample Table\n",
        "\n",
        "Let's create a simple table to demonstrate publishing:\n"
      ]
    },
    {
      "cell_type": "code",
      "execution_count": null,
      "metadata": {},
      "outputs": [],
      "source": [
        "# Create a clean environment for this example\n",
        "pxt.drop_dir('shared_demo', force=True)\n",
        "pxt.create_dir('shared_demo')\n",
        "\n",
        "# Create a sample table to work with\n",
        "schema = {\n",
        "    'id': pxt.Int,\n",
        "    'name': pxt.String,\n",
        "    'value': pxt.Float,\n",
        "}\n",
        "sample_table = pxt.create_table('shared_demo.sample_data', schema)\n",
        "\n",
        "# Add some sample data\n",
        "sample_table.insert([\n",
        "    {'id': 1, 'name': 'Alice', 'value': 42.5},\n",
        "    {'id': 2, 'name': 'Bob', 'value': 37.8},\n",
        "    {'id': 3, 'name': 'Charlie', 'value': 91.2}\n",
        "])\n",
        "\n",
        "print(\"Created sample table with data:\")\n",
        "sample_table.show()\n"
      ]
    },
    {
      "cell_type": "markdown",
      "metadata": {},
      "source": [
        "### Cloud URI Format\n",
        "\n",
        "Pixeltable uses a specific URI format for cloud tables: `pxt://username/table_name`\n",
        "\n",
        "**Examples:**\n",
        "- `pxt://alice/sales_data`\n",
        "- `pxt://bob/experiments.results`\n",
        "- `pxt://team/shared.dataset_name`\n",
        "\n",
        "**Note**: For organization, you can use dot notation like `shared.dataset_name`, but extra directories are optional.\n"
      ]
    },
    {
      "cell_type": "markdown",
      "metadata": {},
      "source": [
        "### Access Control Options\n",
        "\n",
        "When publishing tables, you can control who can access them:\n",
        "\n",
        "- **`access='private'` (default)**: Only you can access the shared table\n",
        "- **`access='public'`**: Anyone with the table URI can access and create read-only replicas of the table\n",
        "\n",
        "```python\n",
        "# Private table (default)\n",
        "pxt.publish('my_table', 'pxt://alice/sales_data')\n",
        "\n",
        "# Public table\n",
        "pxt.publish('my_table', 'pxt://alice/sales_data', access='public')\n",
        "```\n"
      ]
    },
    {
      "cell_type": "code",
      "execution_count": null,
      "metadata": {},
      "outputs": [],
      "source": [
        "# Define the cloud URI where you want to publish the table\n",
        "cloud_uri = \"pxt://alice/shared.sample_data\"\n",
        "\n",
        "# Publish local table to cloud (requires API key)\n",
        "try:\n",
        "    published_uri = pxt.publish('shared_demo.sample_data', cloud_uri, access='public')\n",
        "    print(f\"Published: {published_uri}\")\n",
        "except excs.Error as e:\n",
        "    print(f\"Error: {e}\")\n",
        "    print(\"Note: Requires API key and real cloud URI\")\n"
      ]
    },
    {
      "cell_type": "markdown",
      "metadata": {},
      "source": [
        "## Updating Your Shared Table\n",
        "\n",
        "After you've published a table, you can continue to make changes locally and push those updates to the cloud.\n",
        "\n",
        "**Note**: Pushing updates also requires a Pixeltable API key.\n"
      ]
    },
    {
      "cell_type": "code",
      "execution_count": null,
      "metadata": {},
      "outputs": [],
      "source": [
        "# Make changes to your local table\n",
        "sample_table.insert([{'id': 4, 'name': 'Diana', 'value': 65.3}])\n",
        "sample_table.show()\n",
        "\n",
        "# Push updates from local table to cloud (requires API key)\n",
        "try:\n",
        "    sample_table.push()  # my_table.push() - pushes from local to cloud\n",
        "    print(\"Updated cloud table\")\n",
        "except excs.Error as e:\n",
        "    print(f\"Error: {e}\")\n"
      ]
    },
    {
      "cell_type": "code",
      "execution_count": null,
      "metadata": {},
      "outputs": [],
      "source": [
        "# Option 1: Read-Only Replica\n",
        "cloud_uri = \"pxt://alice/shared.sample_data\"\n",
        "local_replica_path = \"shared_demo.replicated_data\"\n",
        "\n",
        "try:\n",
        "    replica_table = pxt.replicate(cloud_uri, local_replica_path)\n",
        "    print(f\"Replicated: {replica_table._path()}\")\n",
        "    replica_table.show()\n",
        "    \n",
        "    # Create view on replica (replicas are read-only)\n",
        "    view = pxt.create_view(\"shared_demo.replica_view\", replica_table, \n",
        "                          additional_columns={'computed_value': replica_table.value * 2})\n",
        "    print(\"Created view on replica:\")\n",
        "    view.show()\n",
        "    \n",
        "except excs.Error as e:\n",
        "    print(f\"Error: {e}\")\n",
        "\n",
        "# You can convert a replica to an independent table at any point\n",
        "print(\"\\n\" + \"=\"*40)\n",
        "print(\"Converting replica to independent table:\")\n",
        "try:\n",
        "    # Create independent table from replica data\n",
        "    independent_table = pxt.create_table(\"shared_demo.independent_copy\", {'id': pxt.Int, 'name': pxt.String, 'value': pxt.Float})\n",
        "    independent_table.insert(replica_table.select().collect())\n",
        "    \n",
        "    print(f\"Created independent table: {independent_table._path()}\")\n",
        "    print(\"Note: This table can be modified but won't receive upstream updates\")\n",
        "    independent_table.show()\n",
        "    \n",
        "except excs.Error as e:\n",
        "    print(f\"Error: {e}\")\n"
      ]
    },
    {
      "cell_type": "markdown",
      "metadata": {},
      "source": [
        "## Accessing Shared Data\n",
        "\n",
        "If you want to work with a table that someone else has published, you have two options:\n",
        "\n",
        "**Note**: Accessing shared data does not require an API key - you can create read-only replicas and work with shared tables directly.\n",
        "\n",
        "\n",
        "\n",
        "### Option 1: Read-Only Replica\n",
        "Create a read-only replica that stays connected to the upstream cloud table:\n",
        "- ✅ Can pull updates from the cloud when data changes\n",
        "- ✅ Can stay synchronized with upstream changes (manual pull required)\n",
        "- ❌ Read-only - must create views to work with the data\n",
        "- Use: `pxt.replicate(cloud_uri, local_path)` - source (cloud), destination (local)\n",
        "\n",
        "**Note**: You can convert a replica to an independent table at any point using `pxt.create_table()`, but you'll no longer be able to pull updates from the upstream cloud table.\n",
        "\n",
        "### Option 2: Create Table\n",
        "Create a regular table from cloud data with no upstream connection:\n",
        "- ✅ Can work with data directly (insert, update, delete)\n",
        "- ✅ No upstream dependency\n",
        "- ❌ No automatic updates - data becomes stale\n",
        "- Use: `pxt.create_table(local_path, source=cloud_uri)`\n"
      ]
    },
    {
      "cell_type": "code",
      "execution_count": null,
      "metadata": {},
      "outputs": [],
      "source": [
        "# Option 2: Create Table\n",
        "local_table_path = \"shared_demo.local_copy\"\n",
        "\n",
        "try:\n",
        "    # Create regular table from cloud data\n",
        "    regular_table = pxt.create_table(local_table_path, {'id': pxt.Int, 'name': pxt.String, 'value': pxt.Float})\n",
        "    regular_table.insert(sample_table.select().collect())\n",
        "    \n",
        "    print(f\"Created table: {regular_table._path()}\")\n",
        "    regular_table.show()\n",
        "    \n",
        "    # Can modify directly\n",
        "    regular_table.insert([{'id': 5, 'name': 'Eve', 'value': 88.9}])\n",
        "    print(\"After inserting new row:\")\n",
        "    regular_table.show()\n",
        "    \n",
        "except excs.Error as e:\n",
        "    print(f\"Error: {e}\")\n"
      ]
    },
    {
      "cell_type": "code",
      "execution_count": null,
      "metadata": {},
      "outputs": [],
      "source": [
        "\n"
      ]
    },
    {
      "cell_type": "markdown",
      "metadata": {},
      "source": [
        "## Keeping Tables Synchronized\n",
        "\n",
        "Once you have a published table or replica table, you can keep them synchronized with updates.\n"
      ]
    },
    {
      "cell_type": "code",
      "execution_count": null,
      "metadata": {},
      "outputs": [],
      "source": [
        "# Push updates to the cloud\n",
        "sample_table.insert([{'id': 5, 'name': 'Eve', 'value': 88.9}])\n",
        "sample_table.show()\n",
        "\n",
        "try:\n",
        "    sample_table.push()  # my_table.push() - pushes from local to cloud\n",
        "    print(\"Updated cloud table\")\n",
        "except excs.Error as e:\n",
        "    print(f\"Error: {e}\")\n",
        "\n",
        "print(\"\\n\" + \"=\"*30)\n",
        "\n",
        "# Pull updates from cloud to local replica\n",
        "try:\n",
        "    replica_table.pull()  # shared_table.pull() - updates local replica from cloud\n",
        "    print(\"Updated local replica\")\n",
        "    replica_table.show()\n",
        "except excs.Error as e:\n",
        "    print(f\"Error: {e}\")\n"
      ]
    },
    {
      "cell_type": "markdown",
      "metadata": {},
      "source": [
        "## Cloud URI Format (Advanced)\n",
        "\n",
        "Pixeltable uses a specific URI format for cloud tables: `pxt://username/table_name`\n",
        "\n",
        "For organization, you can use dot notation: `pxt://username/directory.table_name`\n"
      ]
    },
    {
      "cell_type": "code",
      "execution_count": null,
      "metadata": {},
      "outputs": [],
      "source": [
        "# Examples of valid cloud URIs:\n",
        "examples = [\n",
        "    \"pxt://alice/sales_data\",\n",
        "    \"pxt://bob/experiments.results\", \n",
        "    \"pxt://team/shared.dataset_name\"\n",
        "]\n",
        "\n",
        "print(\"Examples of valid cloud URIs:\")\n",
        "for uri in examples:\n",
        "    print(f\"  - {uri}\")\n",
        "\n",
        "print(\"\\nKey points:\")\n",
        "print(\"- Use dots (.) not slashes (/) for organization\")\n",
        "print(\"- The format is: pxt://username/table_name\")\n",
        "print(\"- Directory organization (like 'shared.dataset') is optional\")\n"
      ]
    },
    {
      "cell_type": "markdown",
      "metadata": {},
      "source": [
        "## Summary\n",
        "\n",
        "Shared tables in Pixeltable enable collaborative data science workflows:\n",
        "\n",
        "### Sharing Your Data\n",
        "- **Publish**: Share your local tables with others using `pxt.publish(local_table, cloud_uri)` (source, destination)\n",
        "- **Update**: Push local changes to the cloud using `my_table.push()` (method on your table object)\n",
        "\n",
        "### Accessing Shared Data\n",
        "**Two approaches available:**\n",
        "\n",
        "1. **Read-Only Replica**: `pxt.replicate(cloud_uri, local_path)` (source, destination) → Read-only replica with upstream connection\n",
        "   - ✅ Can pull updates with `shared_table.pull()` (method on your table object)\n",
        "   - ❌ Read-only - create views to work with data\n",
        "   \n",
        "2. **Create Table**: `pxt.create_table(local_path, source=cloud_uri)` → Regular table with no upstream connection\n",
        "   - ✅ Can modify data directly\n",
        "   - ❌ No automatic updates - data becomes stale\n",
        "\n",
        "### Argument Order Pattern\n",
        "**Always**: `function(source, destination)`\n",
        "- `pxt.publish(local_table, cloud_uri)` - local table (source) → cloud (destination)\n",
        "- `pxt.replicate(cloud_uri, local_path)` - cloud table (source) → local (destination)\n",
        "\n",
        "### Key Points\n",
        "- Choose **Read-Only Replica** if you want to stay synchronized with upstream changes\n",
        "- Choose **Create Table** if you want to modify the data independently\n",
        "- Always wrap operations in try-catch blocks for proper error handling\n",
        "- Use the cloud URI format: `pxt://username/table_name`\n",
        "\n",
        "### Important: Local vs Global Operations\n",
        "- **Global functions** (`pxt.publish()`, `pxt.replicate()`) operate on source/destination paths\n",
        "- **Table methods** (`my_table.push()`, `shared_table.pull()`) are called on your pixeltable objects\n",
        "- Remember: `my_table.push()` and `shared_table.pull()` are methods you call on YOUR table objects, not global functions\n"
      ]
    }
  ],
  "metadata": {
    "language_info": {
      "name": "python"
    }
  },
  "nbformat": 4,
  "nbformat_minor": 2
}
